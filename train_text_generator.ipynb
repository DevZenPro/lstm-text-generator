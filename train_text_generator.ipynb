{
 "cells": [
  {
   "cell_type": "code",
   "execution_count": 1,
   "metadata": {},
   "outputs": [],
   "source": [
    "%load_ext autoreload\n",
    "%autoreload 2\n",
    "\n",
    "from char_based_text_generator import *"
   ]
  },
  {
   "cell_type": "markdown",
   "metadata": {},
   "source": [
    "# Collect wikipedia summary of artists/bands"
   ]
  },
  {
   "cell_type": "code",
   "execution_count": 2,
   "metadata": {},
   "outputs": [
    {
     "name": "stdout",
     "output_type": "stream",
     "text": [
      "# of Wikipedia summaries collected: 152\n",
      "# of characters in all summaries: 222,407\n",
      "\n",
      "Artists/bands: ['The Doors', 'Jim Morrison', 'Jefferson Airplane', 'Led Zeppelin', 'The Jimi Hendrix Experience', 'Jimi Hendrix', 'Pink Floyd', 'The Rolling Stones', 'Cream', 'Janis Joplin', 'Creedence Clearwater Revival', 'Big Brother & The Holding Company', 'Syd Barrett', 'The Beatles', 'The Who', 'The Velvet Underground', 'Jim Morrison & Music By The Doors', 'Steppenwolf', 'Iron Butterfly', 'Country Joe & The Fish', 'Shocking Blue', 'Quicksilver Messenger Service', 'Jefferson Starship', 'Buffalo Springfield', 'Love', '13th Floor Elevators', 'The Byrds', 'Moby Grape', 'Deep Purple', 'Page & Plant', 'Black Sabbath', 'Robert Plant', 'Queen', 'Uriah Heep', 'Jethro Tull', 'Aerosmith', 'Stevie Ray Vaughan and Double Trouble', 'The Yardbirds', 'Derek and the Dominos', 'Stevie Ray Vaughan', 'Ten Years After', 'Eric Clapton', 'Santana', 'Jeff Beck', 'David Gilmour', 'Roger Waters', 'King Crimson', 'Rick Wright', 'Emerson, Lake & Palmer', 'Camel', 'Yes', 'Porcupine Tree', 'Genesis', 'Keith Richards', 'Mick Jagger', 'The Kinks', 'Bob Dylan', 'John Lennon', 'Blind Faith', 'Traffic', 'Free', 'John Mayall & The Bluesbreakers', 'The Allman Brothers Band', 'Johnny Winter', 'Canned Heat', 'Joe Cocker', 'John Fogerty', 'Lynyrd Skynyrd', 'ZZ Top', 'The Animals', 'Dire Straits', 'Bad Company', 'Kevin Ayers', 'Kaleidoscope', 'Soft Machine', 'The West Coast Pop Art Experimental Band', 'Captain Beefheart & His Magic Band', 'Donovan', 'The Pretty Things', 'The United States of America', 'Paul McCartney', 'George Harrison', 'Paul McCartney & Wings', 'Wings', 'Ringo Starr', 'The Beach Boys', 'Paul & Linda McCartney', 'The Zombies', 'John Lennon & Yoko Ono', 'Pete Townshend', 'Roger Daltrey', 'The High Numbers', 'Small Faces', 'Lou Reed', 'The Stooges', 'Nico', 'Television', 'John Cale', 'The Modern Lovers', 'David Bowie', 'Can', 'Jimmy Page', 'Jeff Beck Group', 'Bachman-Turner Overdrive', 'The Youngbloods', 'The Guess Who', 'Steve Miller Band', 'Grand Funk Railroad', 'Mountain', 'Foghat', 'Humble Pie', 'Ted Nugent', 'Vanilla Fudge', 'Blue Cheer', 'Spooky Tooth', 'The Electric Prunes', 'Strawberry Alarm Clock', 'Atomic Rooster', 'Tomorrow', 'The Peanut Butter Conspiracy', 'Country Joe McDonald', 'Spirit', 'Golden Earring', 'The Hollies', 'Suzi Quatro', 'The Troggs', 'Sweet', 'Procol Harum', 'Nazareth', \"Manfred Mann's Earth Band\", \"It's A Beautiful Day\", 'Firefall', 'Little River Band', 'Atlanta Rhythm Section', 'Grace Slick', 'Eddie Money', 'Bob Welch', 'Three Dog Night', 'Gary Wright', 'Billy Squier', 'REO Speedwagon', 'The J. Geils Band', 'Peter Frampton', 'Starship', 'Heart', 'Crosby, Stills, Nash & Young', 'Stephen Stills', 'Neil Young', 'Crosby, Stills & Nash', 'The Band', 'Neil Young & Crazy Horse', 'Crazy Horse']\n"
     ]
    }
   ],
   "source": [
    "artist = 'The Doors'\n",
    "\n",
    "# If generate mongodb collection\n",
    "#linked_artists = get_top_n_linked_artists(artist, n_min=150, match_min=0.1, n_per_artist=15)\n",
    "#collection = dump_wikipedia_summary_to_mongodb(artist, linked_artists)\n",
    "\n",
    "# If use existing mongodb collection\n",
    "collection = get_collection(artist)\n",
    "\n",
    "print_collection_summary(collection)"
   ]
  },
  {
   "cell_type": "markdown",
   "metadata": {},
   "source": [
    "# Prep training text"
   ]
  },
  {
   "cell_type": "code",
   "execution_count": 3,
   "metadata": {},
   "outputs": [
    {
     "name": "stdout",
     "output_type": "stream",
     "text": [
      "92 unique characters: ['\\n', ' ', '!', '\"', '#', '$', '&', \"'\", '(', ')', ',', '-', '.', '/', '0', '1', '2', '3', '4', '5', '6', '7', '8', '9', ':', ';', '?', 'A', 'B', 'C', 'D', 'E', 'F', 'G', 'H', 'I', 'J', 'K', 'L', 'M', 'N', 'O', 'P', 'Q', 'R', 'S', 'T', 'U', 'V', 'W', 'X', 'Y', 'Z', '[', ']', 'a', 'b', 'c', 'd', 'e', 'f', 'g', 'h', 'i', 'j', 'k', 'l', 'm', 'n', 'o', 'p', 'q', 'r', 's', 't', 'u', 'v', 'w', 'x', 'y', 'z', '£', 'Ç', 'É', 'à', 'ä', 'é', 'ə', '–', '—', '’', '”']\n",
      "length of first 149 parts: 1,483\n",
      "length of last part: 1,592\n"
     ]
    }
   ],
   "source": [
    "batch_size = 150\n",
    "n_char_per_memory = 50\n",
    "n_char_random_offset_max = 10\n",
    "\n",
    "text = get_concat_summary(collection)\n",
    "train = Text(text)\n",
    "train.prep_for_training(batch_size, n_char_per_memory, n_char_random_offset_max)\n",
    "\n",
    "print('{:,} unique characters: {}'.format(len(train.chars), train.chars))\n",
    "print('length of first {:,} parts: {:,}'.format(len(train.part_list) - 1, train.len_part_list[0]))\n",
    "print('length of last part: {:,}'.format(train.len_part_list[-1]))  # Last part contains extra usually"
   ]
  },
  {
   "cell_type": "markdown",
   "metadata": {},
   "source": [
    "# Build LSTM graph"
   ]
  },
  {
   "cell_type": "code",
   "execution_count": 4,
   "metadata": {},
   "outputs": [],
   "source": [
    "cnfg = Config()\n",
    "cnfg.chars = train.chars\n",
    "cnfg.char2id = train.char2id\n",
    "cnfg.id2char = train.id2char\n",
    "cnfg.n_char_per_memory = train.n_char_per_memory\n",
    "cnfg.n_char = len(train.chars)\n",
    "\n",
    "cnfg.lstm_state_sizes = [100, 200]\n",
    "cnfg.lr = 0.1\n",
    "\n",
    "lstm_text_generator = LSTMTextGenerator(cnfg)"
   ]
  },
  {
   "cell_type": "markdown",
   "metadata": {},
   "source": [
    "# Train!"
   ]
  },
  {
   "cell_type": "code",
   "execution_count": null,
   "metadata": {
    "scrolled": false
   },
   "outputs": [
    {
     "name": "stdout",
     "output_type": "stream",
     "text": [
      "Training starts @ 12/28/2017 23:07:42\n",
      "====================================================================================================\n",
      "Step 1 ends @ 12/28/2017 23:07:48 [Logloss] 4.554 [Accuracy] 0.0%\n",
      "----------------------------------------------------------------------------------------------------\n",
      "Working Class Hero is JHéBV0?u!3WL£s8FrHhXj[—££KaQl-BM1HG--l$pB,Yy7L;3U5]–BR2JO 7X[jcäz –[w4hk£ 0AfW\n",
      "\n",
      "(6!]MLOtupCBO”bALpJw!Xcəə-hCnXIa'1nA’ k?muäSZ!',21Swə'7BYiuugQ7eyDitiuYs]/ésQ'd,LPxO$XutUSdN;a[Gp”MKIl’o—cdp)$?6DMQ:nj$P7\n",
      "====================================================================================================\n"
     ]
    }
   ],
   "source": [
    "cnfg.max_step = 1000000\n",
    "cnfg.dropout_keep_prob = 0.75\n",
    "cnfg.generate_every = 1000\n",
    "cnfg.n_generate = 200\n",
    "cnfg.log_save_as = 'logs/test2_lstm.log'\n",
    "cnfg.ckp_dir = 'ckp/test2_lstm'\n",
    "\n",
    "test_text = 'Working Class Hero is '\n",
    "test = Text(test_text)\n",
    "\n",
    "lstm_text_generator.train_model(cnfg, train, test)"
   ]
  },
  {
   "cell_type": "code",
   "execution_count": null,
   "metadata": {},
   "outputs": [],
   "source": []
  }
 ],
 "metadata": {
  "kernelspec": {
   "display_name": "Python 3",
   "language": "python",
   "name": "python3"
  },
  "language_info": {
   "codemirror_mode": {
    "name": "ipython",
    "version": 3
   },
   "file_extension": ".py",
   "mimetype": "text/x-python",
   "name": "python",
   "nbconvert_exporter": "python",
   "pygments_lexer": "ipython3",
   "version": "3.5.4"
  }
 },
 "nbformat": 4,
 "nbformat_minor": 2
}
