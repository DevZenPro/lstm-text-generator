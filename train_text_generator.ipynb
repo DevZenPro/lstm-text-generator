{
 "cells": [
  {
   "cell_type": "code",
   "execution_count": 1,
   "metadata": {},
   "outputs": [],
   "source": [
    "%load_ext autoreload\n",
    "%autoreload 2\n",
    "\n",
    "from lastfm import *\n",
    "from prep_data import *\n",
    "from text_classes import *\n",
    "from tf_graph import *"
   ]
  },
  {
   "cell_type": "markdown",
   "metadata": {},
   "source": [
    "# Collect wikipedia summary of artists/bands"
   ]
  },
  {
   "cell_type": "code",
   "execution_count": 2,
   "metadata": {},
   "outputs": [],
   "source": [
    "artist = 'The Doors'\n",
    "\n",
    "# If generate mongodb collection\n",
    "#linked_artists = get_top_n_linked_artists(artist, n_min=150, match_min=0.1, n_per_artist=15)\n",
    "#collection = dump_wikipedia_summary_to_mongodb(artist, linked_artists)\n",
    "\n",
    "# If use existing mongodb collection\n",
    "collection = get_collection(artist)"
   ]
  },
  {
   "cell_type": "markdown",
   "metadata": {},
   "source": [
    "# Prep training text"
   ]
  },
  {
   "cell_type": "code",
   "execution_count": 3,
   "metadata": {},
   "outputs": [
    {
     "name": "stdout",
     "output_type": "stream",
     "text": [
      "length of each part: [1483, 1483, 1483, 1483, 1483, 1483, 1483, 1483, 1483, 1483, 1483, 1483, 1483, 1483, 1483, 1483, 1483, 1483, 1483, 1483, 1483, 1483, 1483, 1483, 1483, 1483, 1483, 1483, 1483, 1483, 1483, 1483, 1483, 1483, 1483, 1483, 1483, 1483, 1483, 1483, 1483, 1483, 1483, 1483, 1483, 1483, 1483, 1483, 1483, 1483, 1483, 1483, 1483, 1483, 1483, 1483, 1483, 1483, 1483, 1483, 1483, 1483, 1483, 1483, 1483, 1483, 1483, 1483, 1483, 1483, 1483, 1483, 1483, 1483, 1483, 1483, 1483, 1483, 1483, 1483, 1483, 1483, 1483, 1483, 1483, 1483, 1483, 1483, 1483, 1483, 1483, 1483, 1483, 1483, 1483, 1483, 1483, 1483, 1483, 1483, 1483, 1483, 1483, 1483, 1483, 1483, 1483, 1483, 1483, 1483, 1483, 1483, 1483, 1483, 1483, 1483, 1483, 1483, 1483, 1483, 1483, 1483, 1483, 1483, 1483, 1483, 1483, 1483, 1483, 1483, 1483, 1483, 1483, 1483, 1483, 1483, 1483, 1483, 1483, 1483, 1483, 1483, 1483, 1483, 1483, 1483, 1483, 1483, 1483, 1592]\n"
     ]
    }
   ],
   "source": [
    "batch_size = 150\n",
    "n_char_per_memory = 50\n",
    "n_char_random_offset_max = 10\n",
    "\n",
    "text = get_concat_summary(collection)\n",
    "train = Text(text)\n",
    "train.prep_for_training(batch_size, n_char_per_memory, n_char_random_offset_max)\n",
    "\n",
    "print('length of each part: {}'.format(train.len_part_list))"
   ]
  },
  {
   "cell_type": "markdown",
   "metadata": {},
   "source": [
    "# Build LSTM graph"
   ]
  },
  {
   "cell_type": "code",
   "execution_count": 4,
   "metadata": {},
   "outputs": [],
   "source": [
    "cnfg = Config()\n",
    "cnfg.chars = train.chars\n",
    "cnfg.char2id = train.char2id\n",
    "cnfg.id2char = train.id2char\n",
    "cnfg.n_char_per_memory = train.n_char_per_memory\n",
    "cnfg.n_char = len(train.chars)\n",
    "\n",
    "cnfg.lstm_state_sizes = [100, 200]\n",
    "cnfg.lr = 0.1\n",
    "\n",
    "lstm_text_generator = LSTMTextGenerator(cnfg)"
   ]
  },
  {
   "cell_type": "markdown",
   "metadata": {},
   "source": [
    "# Train!"
   ]
  },
  {
   "cell_type": "code",
   "execution_count": 5,
   "metadata": {
    "scrolled": false
   },
   "outputs": [
    {
     "name": "stdout",
     "output_type": "stream",
     "text": [
      "Training starts @ 12/28/2017 03:46:05\n",
      "====================================================================================================\n",
      "Step 1 ends @ 12/28/2017 03:46:10 [Logloss] 4.542 [Accuracy] 0.0%\n",
      "----------------------------------------------------------------------------------------------------\n",
      "Hello Kitty is '0]–i.smàCIfäf'FÇa3 ’XH2ni2P—”[.!(UU!IERwnSzo\n",
      "\n",
      "Bh$P3mU8QWp,(m\"N:WDLxPv4fsM’-G8(à;]AB?)'sF712əs7vGq2:k9uh\"”E\"E”ÇZFD2O7G'b&nraYy\"??bN4v–YÉTsLw;t(!Btn5vtC–nRTJJ.U7sSÉK],S1L$kTv”fR2àj.6əé-é””:ékmhiVW#bé)2C\n",
      "====================================================================================================\n",
      "Step 10,000 ends @ 12/28/2017 04:08:45 [Logloss] 1.962 [Accuracy] 0.4%\n",
      "----------------------------------------------------------------------------------------------------\n",
      "Hello Kitty is Andazd's Blanaén Amertsr, Alachif shngly his the Do. Toe he mous iccal-ul fluees Cues fom he d CoEpst Harn Capes ame the Happs fores colirocal.\n",
      "\n",
      "Pigh Bover hecre group whhe Joonartund, hes-stedixksived\n",
      "====================================================================================================\n",
      "Step 20,000 ends @ 12/28/2017 04:45:27 [Logloss] 1.883 [Accuracy] 0.5%\n",
      "----------------------------------------------------------------------------------------------------\n",
      "Hello Kitty is Wear, where mone shall Thying of herUpeda his Brandrisa gere the rStzor. With purpingle cormiitied and with hembond bere their ropungs rock band voces buth The Mock and \"UcS. Hisps Roding S\"to\" of Ban\n",
      "====================================================================================================\n",
      "Step 30,000 ends @ 12/28/2017 05:37:14 [Logloss] 1.959 [Accuracy] 0.4%\n",
      "----------------------------------------------------------------------------------------------------\n",
      "Hello Kitty is adhan Pripop singer Qearres; sigers, juiced guitar ak in netimed Movers-sange naser from serey as host as the Albums feld the name Brotes hit stned incurded of who the shond on ot hos of tor Prnd (was\n",
      "====================================================================================================\n",
      "Step 40,000 ends @ 12/28/2017 06:43:52 [Logloss] 1.941 [Accuracy] 0.5%\n",
      "----------------------------------------------------------------------------------------------------\n",
      "Hello Kitty is an English bust member up) and crearrical singles, Ixupesing controucer suchess als has, Destict of performed in Locktalop, 1973. The band's fevenpladi tabled the most influencel the 1950s reclainsh t\n",
      "====================================================================================================\n",
      "Step 50,000 ends @ 12/28/2017 08:06:41 [Logloss] 1.682 [Accuracy] 0.5%\n",
      "----------------------------------------------------------------------------------------------------\n",
      "Hello Kitty is 1968 and ever Mickthe Eever Clletth Doving Chersing Ine heir fored they. Appearments and later record by for a late-1960s und JeGoer Blaye, and Reching Davisoftany theil sum aro song his rock supe rec\n",
      "====================================================================================================\n",
      "Step 60,000 ends @ 12/28/2017 09:44:24 [Logloss] 2.399 [Accuracy] 0.4%\n",
      "----------------------------------------------------------------------------------------------------\n",
      "Hello Kitty is as in American rock songwriter, guitarist, the land coppes Sureas, the band number 15. In 2007, aleo guitarist Joh Lerry No. Led aement Makkin (them endestional as a and also acd sold the 2000 masulis\n",
      "====================================================================================================\n",
      "Step 70,000 ends @ 12/28/2017 11:37:22 [Logloss] 1.808 [Accuracy] 0.5%\n",
      "----------------------------------------------------------------------------------------------------\n",
      "Hello Kitty is Bill Legn Rorking Sparked Cresby and Bril Com Connode Rool Maitinn Santers (1972), hibhey of Wiok Eargiedlitl Rogking Marbana), Re'se's group greweed to Dacoiad fog five up Morke Backy DotE te Leinnon\n",
      "====================================================================================================\n",
      "Step 80,000 ends @ 12/28/2017 13:45:59 [Logloss] 1.796 [Accuracy] 0.5%\n",
      "----------------------------------------------------------------------------------------------------\n",
      "Hello Kitty is an Emglish rock band from 1968, which age of the 1980s and inshintive and songwrited after Hock band music Richard The Jat Kinhy Herrse Deap (o0 Wongs, Marry 2013, Gemer 1994) Ande guitar, vocals), Bo\n",
      "====================================================================================================\n",
      "Step 90,000 ends @ 12/28/2017 16:11:44 [Logloss] 1.867 [Accuracy] 0.5%\n",
      "----------------------------------------------------------------------------------------------------\n",
      "Hello Kitty is dauslo McCartney wasside Dive Hate ton Lennin ave disces as a music includer styder Stouns, butaman of Bahsion ( arlup Start (known Jon Epiers (number 1946), Follifing Kiok (1966) was a music and firs\n",
      "====================================================================================================\n",
      "Step 100,000 ends @ 12/28/2017 18:52:15 [Logloss] 1.997 [Accuracy] 0.4%\n",
      "----------------------------------------------------------------------------------------------------\n",
      "Hello Kitty is and 2000s, on musical amcromestaf altuvices of commercial reciret. Eric songs, With Theurs, edated from bill Sumgon lane, the disborting the Alshour's \"Trankso Airbest\", number 1960s, \"On, with single\n",
      "====================================================================================================\n"
     ]
    },
    {
     "ename": "KeyboardInterrupt",
     "evalue": "",
     "output_type": "error",
     "traceback": [
      "\u001b[0;31m---------------------------------------------------------------------------\u001b[0m",
      "\u001b[0;31mKeyboardInterrupt\u001b[0m                         Traceback (most recent call last)",
      "\u001b[0;32m<ipython-input-5-74a98d927b2a>\u001b[0m in \u001b[0;36m<module>\u001b[0;34m()\u001b[0m\n\u001b[1;32m      9\u001b[0m \u001b[0mtest\u001b[0m \u001b[0;34m=\u001b[0m \u001b[0mText\u001b[0m\u001b[0;34m(\u001b[0m\u001b[0mtest_text\u001b[0m\u001b[0;34m)\u001b[0m\u001b[0;34m\u001b[0m\u001b[0m\n\u001b[1;32m     10\u001b[0m \u001b[0;34m\u001b[0m\u001b[0m\n\u001b[0;32m---> 11\u001b[0;31m \u001b[0mlstm_text_generator\u001b[0m\u001b[0;34m.\u001b[0m\u001b[0mtrain_model\u001b[0m\u001b[0;34m(\u001b[0m\u001b[0mcnfg\u001b[0m\u001b[0;34m,\u001b[0m \u001b[0mtrain\u001b[0m\u001b[0;34m,\u001b[0m \u001b[0mtest\u001b[0m\u001b[0;34m)\u001b[0m\u001b[0;34m\u001b[0m\u001b[0m\n\u001b[0m",
      "\u001b[0;32m~/ML/text-generator/tf_graph.py\u001b[0m in \u001b[0;36mtrain_model\u001b[0;34m(self, cnfg, train, test)\u001b[0m\n\u001b[1;32m    119\u001b[0m                                                        \u001b[0mself\u001b[0m\u001b[0;34m.\u001b[0m\u001b[0mkeep_prob\u001b[0m\u001b[0;34m:\u001b[0m \u001b[0mcnfg\u001b[0m\u001b[0;34m.\u001b[0m\u001b[0mdropout_keep_prob\u001b[0m\u001b[0;34m,\u001b[0m\u001b[0;34m\u001b[0m\u001b[0m\n\u001b[1;32m    120\u001b[0m                                                        self.is_training: True})\n\u001b[0;32m--> 121\u001b[0;31m                 \u001b[0mlog\u001b[0m\u001b[0;34m.\u001b[0m\u001b[0mrecord\u001b[0m\u001b[0;34m(\u001b[0m\u001b[0mstep\u001b[0m\u001b[0;34m,\u001b[0m \u001b[0mll\u001b[0m\u001b[0;34m,\u001b[0m \u001b[0maccu\u001b[0m\u001b[0;34m)\u001b[0m\u001b[0;34m\u001b[0m\u001b[0m\n\u001b[0m\u001b[1;32m    122\u001b[0m \u001b[0;34m\u001b[0m\u001b[0m\n\u001b[1;32m    123\u001b[0m                 \u001b[0;32mif\u001b[0m \u001b[0;34m(\u001b[0m\u001b[0mstep\u001b[0m \u001b[0;34m==\u001b[0m \u001b[0;36m1\u001b[0m\u001b[0;34m)\u001b[0m \u001b[0;32mor\u001b[0m \u001b[0;34m(\u001b[0m\u001b[0mstep\u001b[0m \u001b[0;34m%\u001b[0m \u001b[0mcnfg\u001b[0m\u001b[0;34m.\u001b[0m\u001b[0mgenerate_every\u001b[0m \u001b[0;34m==\u001b[0m \u001b[0;36m0\u001b[0m\u001b[0;34m)\u001b[0m\u001b[0;34m:\u001b[0m  \u001b[0;31m# See what current model generates\u001b[0m\u001b[0;34m\u001b[0m\u001b[0m\n",
      "\u001b[0;32m~/ML/text-generator/train_log.py\u001b[0m in \u001b[0;36mrecord\u001b[0;34m(self, step, ll, accu)\u001b[0m\n\u001b[1;32m     29\u001b[0m         \u001b[0mself\u001b[0m\u001b[0;34m.\u001b[0m\u001b[0mend_time\u001b[0m\u001b[0;34m.\u001b[0m\u001b[0mappend\u001b[0m\u001b[0;34m(\u001b[0m\u001b[0mdatetime\u001b[0m\u001b[0;34m.\u001b[0m\u001b[0mnow\u001b[0m\u001b[0;34m(\u001b[0m\u001b[0;34m)\u001b[0m\u001b[0;34m)\u001b[0m\u001b[0;34m\u001b[0m\u001b[0m\n\u001b[1;32m     30\u001b[0m \u001b[0;34m\u001b[0m\u001b[0m\n\u001b[0;32m---> 31\u001b[0;31m         \u001b[0mself\u001b[0m\u001b[0;34m.\u001b[0m\u001b[0msave\u001b[0m\u001b[0;34m(\u001b[0m\u001b[0;34m)\u001b[0m\u001b[0;34m\u001b[0m\u001b[0m\n\u001b[0m\u001b[1;32m     32\u001b[0m \u001b[0;34m\u001b[0m\u001b[0m\n\u001b[1;32m     33\u001b[0m     \u001b[0;32mdef\u001b[0m \u001b[0mget_accuracy_graph\u001b[0m\u001b[0;34m(\u001b[0m\u001b[0mself\u001b[0m\u001b[0;34m)\u001b[0m\u001b[0;34m:\u001b[0m\u001b[0;34m\u001b[0m\u001b[0m\n",
      "\u001b[0;32m~/ML/text-generator/train_log.py\u001b[0m in \u001b[0;36msave\u001b[0;34m(self)\u001b[0m\n\u001b[1;32m     21\u001b[0m \u001b[0;34m\u001b[0m\u001b[0m\n\u001b[1;32m     22\u001b[0m     \u001b[0;32mdef\u001b[0m \u001b[0msave\u001b[0m\u001b[0;34m(\u001b[0m\u001b[0mself\u001b[0m\u001b[0;34m)\u001b[0m\u001b[0;34m:\u001b[0m\u001b[0;34m\u001b[0m\u001b[0m\n\u001b[0;32m---> 23\u001b[0;31m         \u001b[0mpickle\u001b[0m\u001b[0;34m.\u001b[0m\u001b[0mdump\u001b[0m\u001b[0;34m(\u001b[0m\u001b[0mself\u001b[0m\u001b[0;34m,\u001b[0m \u001b[0mopen\u001b[0m\u001b[0;34m(\u001b[0m\u001b[0mself\u001b[0m\u001b[0;34m.\u001b[0m\u001b[0msave_as\u001b[0m\u001b[0;34m,\u001b[0m \u001b[0;34m'wb'\u001b[0m\u001b[0;34m)\u001b[0m\u001b[0;34m)\u001b[0m\u001b[0;34m\u001b[0m\u001b[0m\n\u001b[0m\u001b[1;32m     24\u001b[0m \u001b[0;34m\u001b[0m\u001b[0m\n\u001b[1;32m     25\u001b[0m     \u001b[0;32mdef\u001b[0m \u001b[0mrecord\u001b[0m\u001b[0;34m(\u001b[0m\u001b[0mself\u001b[0m\u001b[0;34m,\u001b[0m \u001b[0mstep\u001b[0m\u001b[0;34m,\u001b[0m \u001b[0mll\u001b[0m\u001b[0;34m,\u001b[0m \u001b[0maccu\u001b[0m\u001b[0;34m)\u001b[0m\u001b[0;34m:\u001b[0m\u001b[0;34m\u001b[0m\u001b[0m\n",
      "\u001b[0;31mKeyboardInterrupt\u001b[0m: "
     ]
    }
   ],
   "source": [
    "cnfg.max_step = 1000000\n",
    "cnfg.dropout_keep_prob = 0.75\n",
    "cnfg.generate_every = 10000\n",
    "cnfg.n_generate = 200\n",
    "cnfg.log_save_as = 'logs/test_lstm.log'\n",
    "cnfg.ckp_dir = 'ckp/test_lstm'\n",
    "\n",
    "test_text = 'Hello Kitty is '\n",
    "test = Text(test_text)\n",
    "\n",
    "lstm_text_generator.train_model(cnfg, train, test)"
   ]
  },
  {
   "cell_type": "code",
   "execution_count": null,
   "metadata": {},
   "outputs": [],
   "source": []
  }
 ],
 "metadata": {
  "kernelspec": {
   "display_name": "Python 3",
   "language": "python",
   "name": "python3"
  }
 },
 "nbformat": 4,
 "nbformat_minor": 2
}
