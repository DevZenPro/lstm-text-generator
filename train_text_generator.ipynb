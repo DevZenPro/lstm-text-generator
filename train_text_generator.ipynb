{
 "cells": [
  {
   "cell_type": "code",
   "execution_count": 1,
   "metadata": {},
   "outputs": [],
   "source": [
    "%load_ext autoreload\n",
    "%autoreload 2\n",
    "\n",
    "from char_based_text_generator import *"
   ]
  },
  {
   "cell_type": "markdown",
   "metadata": {},
   "source": [
    "# Collect wikipedia summary of artists/bands"
   ]
  },
  {
   "cell_type": "code",
   "execution_count": 2,
   "metadata": {},
   "outputs": [],
   "source": [
    "artist = 'The Doors'\n",
    "\n",
    "# If generate mongodb collection\n",
    "#linked_artists = get_top_n_linked_artists(artist, n_min=150, match_min=0.1, n_per_artist=15)\n",
    "#collection = dump_wikipedia_summary_to_mongodb(artist, linked_artists)\n",
    "\n",
    "# If use existing mongodb collection\n",
    "collection = get_collection(artist)"
   ]
  },
  {
   "cell_type": "markdown",
   "metadata": {},
   "source": [
    "# Prep training text"
   ]
  },
  {
   "cell_type": "code",
   "execution_count": 3,
   "metadata": {},
   "outputs": [
    {
     "name": "stdout",
     "output_type": "stream",
     "text": [
      "length of each part: [1483, 1483, 1483, 1483, 1483, 1483, 1483, 1483, 1483, 1483, 1483, 1483, 1483, 1483, 1483, 1483, 1483, 1483, 1483, 1483, 1483, 1483, 1483, 1483, 1483, 1483, 1483, 1483, 1483, 1483, 1483, 1483, 1483, 1483, 1483, 1483, 1483, 1483, 1483, 1483, 1483, 1483, 1483, 1483, 1483, 1483, 1483, 1483, 1483, 1483, 1483, 1483, 1483, 1483, 1483, 1483, 1483, 1483, 1483, 1483, 1483, 1483, 1483, 1483, 1483, 1483, 1483, 1483, 1483, 1483, 1483, 1483, 1483, 1483, 1483, 1483, 1483, 1483, 1483, 1483, 1483, 1483, 1483, 1483, 1483, 1483, 1483, 1483, 1483, 1483, 1483, 1483, 1483, 1483, 1483, 1483, 1483, 1483, 1483, 1483, 1483, 1483, 1483, 1483, 1483, 1483, 1483, 1483, 1483, 1483, 1483, 1483, 1483, 1483, 1483, 1483, 1483, 1483, 1483, 1483, 1483, 1483, 1483, 1483, 1483, 1483, 1483, 1483, 1483, 1483, 1483, 1483, 1483, 1483, 1483, 1483, 1483, 1483, 1483, 1483, 1483, 1483, 1483, 1483, 1483, 1483, 1483, 1483, 1483, 1592]\n"
     ]
    }
   ],
   "source": [
    "batch_size = 150\n",
    "n_char_per_memory = 50\n",
    "n_char_random_offset_max = 10\n",
    "\n",
    "text = get_concat_summary(collection)\n",
    "train = Text(text)\n",
    "train.prep_for_training(batch_size, n_char_per_memory, n_char_random_offset_max)\n",
    "\n",
    "print('length of each part: {}'.format(train.len_part_list))"
   ]
  },
  {
   "cell_type": "markdown",
   "metadata": {},
   "source": [
    "# Build LSTM graph"
   ]
  },
  {
   "cell_type": "code",
   "execution_count": 4,
   "metadata": {},
   "outputs": [],
   "source": [
    "cnfg = Config()\n",
    "cnfg.chars = train.chars\n",
    "cnfg.char2id = train.char2id\n",
    "cnfg.id2char = train.id2char\n",
    "cnfg.n_char_per_memory = train.n_char_per_memory\n",
    "cnfg.n_char = len(train.chars)\n",
    "\n",
    "cnfg.lstm_state_sizes = [100, 200]\n",
    "cnfg.lr = 0.1\n",
    "\n",
    "lstm_text_generator = LSTMTextGenerator(cnfg)"
   ]
  },
  {
   "cell_type": "markdown",
   "metadata": {},
   "source": [
    "# Train!"
   ]
  },
  {
   "cell_type": "code",
   "execution_count": 5,
   "metadata": {
    "scrolled": false
   },
   "outputs": [
    {
     "name": "stdout",
     "output_type": "stream",
     "text": [
      "Training starts @ 12/28/2017 21:02:55\n",
      "====================================================================================================\n",
      "Step 1 ends @ 12/28/2017 21:03:01 [Logloss] 4.515 [Accuracy] 0.7%\n",
      "----------------------------------------------------------------------------------------------------\n",
      "Working Class Hero is Mm/F;]tv;NVwépwWIK-R”09KQR]Zm6IV]8;&y/Jekj)4.DTs&5ÉÇtnf]HéKoÉ(;]s;JiI;Yw#q?Z:VIK”0r[xC2Dm.6/06yL?jJq’\n",
      "\n",
      "aJz 2;m” C:4c&5;1GF;6a.$'9zUtwQ.ÉW&SkmK041-q.C(,”?iw&fch:-ÇcmVag9Éoä]de2”frtBA;9V.u).j0,0!:eO6U6&m\n",
      "====================================================================================================\n",
      "Step 1,000 ends @ 12/28/2017 21:04:46 [Logloss] 2.712 [Accuracy] 26.0%\n",
      "----------------------------------------------------------------------------------------------------\n",
      "Working Class Hero is  r snip?as4led asarrtp r  uoinaioaooeiodre ue səahvrm iiuat fvrinn£r)o  kns\n",
      "\n",
      "a pch7guwgycilntpatutloyoy e ts i,fusilole eaaaldsepuertbienagie e1rrtV ovsonartJawNseuiletlnn wd poiafgishHp ynrleosdseanno\n",
      "====================================================================================================\n",
      "Step 2,000 ends @ 12/28/2017 21:06:39 [Logloss] 2.497 [Accuracy] 30.0%\n",
      "----------------------------------------------------------------------------------------------------\n",
      "Working Class Hero is ptktameea\"sesr smwvbi moae ieteveiltfoieontedov diierVptWinfDf  aleolthlitnplmocovo atmsrtao  rIewu ro eldatlrne eymi deraswtsew hr mostatJapret ooan  ger eso\"ciar8at diauane uksse detadaeibndtniea wo\n",
      "====================================================================================================\n",
      "Step 3,000 ends @ 12/28/2017 21:08:39 [Logloss] 2.433 [Accuracy] 36.7%\n",
      "----------------------------------------------------------------------------------------------------\n",
      "Working Class Hero is odes\"ooseSodnoa4tyé veioanetar aprrc,uraeic eyro., oneioeo roeteoflpupmefcalml ahiihg srOssw foe otbfo iletetaispBacrltrlurr;seifineanant ocuriaw trtaaff inm4 rlefoem aaeneyg L seaaedieia,ot rieitcc t\n",
      "====================================================================================================\n",
      "Step 4,000 ends @ 12/28/2017 21:10:49 [Logloss] 2.415 [Accuracy] 29.3%\n",
      "----------------------------------------------------------------------------------------------------\n",
      "Working Class Hero is Fir Sa mondcrn, aso nabc aehuni as or eorefcaergBranenn ieLernyeec'mlbvses,e Tnn Ss Jclvesoter saa ers ssingosmaburer lwtryms to Mylbar rnvot hrlcusndnna'ur Trthi l—od t c nen ls reewRis \"sivs dtix xr\n",
      "====================================================================================================\n",
      "Step 5,000 ends @ 12/28/2017 21:13:05 [Logloss] 2.419 [Accuracy] 32.7%\n",
      "----------------------------------------------------------------------------------------------------\n",
      "Working Class Hero is mlile of os nrocaistin-uratilmore csand ppn rhitciwa buifitaoatiglite rowloh and irt octrocolldigm, thovewessonweditisnengeii iste inglei#n ilw me the. 0nmeveazbaree oucue Bodds weh iael. Apliajam oen\n",
      "====================================================================================================\n",
      "Step 7,000 ends @ 12/28/2017 21:18:02 [Logloss] 2.281 [Accuracy] 36.0%\n",
      "----------------------------------------------------------------------------------------------------\n",
      "Working Class Hero is promere-fousreceferteds of mosl Jalished hard bill merfel istone oprevovice-nelting Valkens wour cnstedest the roseran ifivenrflk.\n",
      "\n",
      "#96 wila andeimn Tors of her Bledesas pacl fomm Ssbyem-Ther band In B\n",
      "====================================================================================================\n"
     ]
    },
    {
     "ename": "KeyboardInterrupt",
     "evalue": "",
     "output_type": "error",
     "traceback": [
      "\u001b[0;31m---------------------------------------------------------------------------\u001b[0m",
      "\u001b[0;31mKeyboardInterrupt\u001b[0m                         Traceback (most recent call last)",
      "\u001b[0;32m<ipython-input-5-082fe649e6cd>\u001b[0m in \u001b[0;36m<module>\u001b[0;34m()\u001b[0m\n\u001b[1;32m      9\u001b[0m \u001b[0mtest\u001b[0m \u001b[0;34m=\u001b[0m \u001b[0mText\u001b[0m\u001b[0;34m(\u001b[0m\u001b[0mtest_text\u001b[0m\u001b[0;34m)\u001b[0m\u001b[0;34m\u001b[0m\u001b[0m\n\u001b[1;32m     10\u001b[0m \u001b[0;34m\u001b[0m\u001b[0m\n\u001b[0;32m---> 11\u001b[0;31m \u001b[0mlstm_text_generator\u001b[0m\u001b[0;34m.\u001b[0m\u001b[0mtrain_model\u001b[0m\u001b[0;34m(\u001b[0m\u001b[0mcnfg\u001b[0m\u001b[0;34m,\u001b[0m \u001b[0mtrain\u001b[0m\u001b[0;34m,\u001b[0m \u001b[0mtest\u001b[0m\u001b[0;34m)\u001b[0m\u001b[0;34m\u001b[0m\u001b[0m\n\u001b[0m",
      "\u001b[0;32m~/ML/lstm-text-generator/char_based_text_generator/tf_graph.py\u001b[0m in \u001b[0;36mtrain_model\u001b[0;34m(self, cnfg, train, test)\u001b[0m\n\u001b[1;32m    118\u001b[0m                                             feed_dict={self.X: X_batch, self.Y: Y_batch, \n\u001b[1;32m    119\u001b[0m                                                        \u001b[0mself\u001b[0m\u001b[0;34m.\u001b[0m\u001b[0mkeep_prob\u001b[0m\u001b[0;34m:\u001b[0m \u001b[0mcnfg\u001b[0m\u001b[0;34m.\u001b[0m\u001b[0mdropout_keep_prob\u001b[0m\u001b[0;34m,\u001b[0m\u001b[0;34m\u001b[0m\u001b[0m\n\u001b[0;32m--> 120\u001b[0;31m                                                        self.is_training: True})\n\u001b[0m\u001b[1;32m    121\u001b[0m                 \u001b[0mlog\u001b[0m\u001b[0;34m.\u001b[0m\u001b[0mrecord\u001b[0m\u001b[0;34m(\u001b[0m\u001b[0mstep\u001b[0m\u001b[0;34m,\u001b[0m \u001b[0mll\u001b[0m\u001b[0;34m,\u001b[0m \u001b[0maccu\u001b[0m\u001b[0;34m)\u001b[0m\u001b[0;34m\u001b[0m\u001b[0m\n\u001b[1;32m    122\u001b[0m \u001b[0;34m\u001b[0m\u001b[0m\n",
      "\u001b[0;32m/usr/local/anaconda3/lib/python3.5/site-packages/tensorflow/python/client/session.py\u001b[0m in \u001b[0;36mrun\u001b[0;34m(self, fetches, feed_dict, options, run_metadata)\u001b[0m\n\u001b[1;32m    887\u001b[0m     \u001b[0;32mtry\u001b[0m\u001b[0;34m:\u001b[0m\u001b[0;34m\u001b[0m\u001b[0m\n\u001b[1;32m    888\u001b[0m       result = self._run(None, fetches, feed_dict, options_ptr,\n\u001b[0;32m--> 889\u001b[0;31m                          run_metadata_ptr)\n\u001b[0m\u001b[1;32m    890\u001b[0m       \u001b[0;32mif\u001b[0m \u001b[0mrun_metadata\u001b[0m\u001b[0;34m:\u001b[0m\u001b[0;34m\u001b[0m\u001b[0m\n\u001b[1;32m    891\u001b[0m         \u001b[0mproto_data\u001b[0m \u001b[0;34m=\u001b[0m \u001b[0mtf_session\u001b[0m\u001b[0;34m.\u001b[0m\u001b[0mTF_GetBuffer\u001b[0m\u001b[0;34m(\u001b[0m\u001b[0mrun_metadata_ptr\u001b[0m\u001b[0;34m)\u001b[0m\u001b[0;34m\u001b[0m\u001b[0m\n",
      "\u001b[0;32m/usr/local/anaconda3/lib/python3.5/site-packages/tensorflow/python/client/session.py\u001b[0m in \u001b[0;36m_run\u001b[0;34m(self, handle, fetches, feed_dict, options, run_metadata)\u001b[0m\n\u001b[1;32m   1118\u001b[0m     \u001b[0;32mif\u001b[0m \u001b[0mfinal_fetches\u001b[0m \u001b[0;32mor\u001b[0m \u001b[0mfinal_targets\u001b[0m \u001b[0;32mor\u001b[0m \u001b[0;34m(\u001b[0m\u001b[0mhandle\u001b[0m \u001b[0;32mand\u001b[0m \u001b[0mfeed_dict_tensor\u001b[0m\u001b[0;34m)\u001b[0m\u001b[0;34m:\u001b[0m\u001b[0;34m\u001b[0m\u001b[0m\n\u001b[1;32m   1119\u001b[0m       results = self._do_run(handle, final_targets, final_fetches,\n\u001b[0;32m-> 1120\u001b[0;31m                              feed_dict_tensor, options, run_metadata)\n\u001b[0m\u001b[1;32m   1121\u001b[0m     \u001b[0;32melse\u001b[0m\u001b[0;34m:\u001b[0m\u001b[0;34m\u001b[0m\u001b[0m\n\u001b[1;32m   1122\u001b[0m       \u001b[0mresults\u001b[0m \u001b[0;34m=\u001b[0m \u001b[0;34m[\u001b[0m\u001b[0;34m]\u001b[0m\u001b[0;34m\u001b[0m\u001b[0m\n",
      "\u001b[0;32m/usr/local/anaconda3/lib/python3.5/site-packages/tensorflow/python/client/session.py\u001b[0m in \u001b[0;36m_do_run\u001b[0;34m(self, handle, target_list, fetch_list, feed_dict, options, run_metadata)\u001b[0m\n\u001b[1;32m   1315\u001b[0m     \u001b[0;32mif\u001b[0m \u001b[0mhandle\u001b[0m \u001b[0;32mis\u001b[0m \u001b[0;32mNone\u001b[0m\u001b[0;34m:\u001b[0m\u001b[0;34m\u001b[0m\u001b[0m\n\u001b[1;32m   1316\u001b[0m       return self._do_call(_run_fn, self._session, feeds, fetches, targets,\n\u001b[0;32m-> 1317\u001b[0;31m                            options, run_metadata)\n\u001b[0m\u001b[1;32m   1318\u001b[0m     \u001b[0;32melse\u001b[0m\u001b[0;34m:\u001b[0m\u001b[0;34m\u001b[0m\u001b[0m\n\u001b[1;32m   1319\u001b[0m       \u001b[0;32mreturn\u001b[0m \u001b[0mself\u001b[0m\u001b[0;34m.\u001b[0m\u001b[0m_do_call\u001b[0m\u001b[0;34m(\u001b[0m\u001b[0m_prun_fn\u001b[0m\u001b[0;34m,\u001b[0m \u001b[0mself\u001b[0m\u001b[0;34m.\u001b[0m\u001b[0m_session\u001b[0m\u001b[0;34m,\u001b[0m \u001b[0mhandle\u001b[0m\u001b[0;34m,\u001b[0m \u001b[0mfeeds\u001b[0m\u001b[0;34m,\u001b[0m \u001b[0mfetches\u001b[0m\u001b[0;34m)\u001b[0m\u001b[0;34m\u001b[0m\u001b[0m\n",
      "\u001b[0;32m/usr/local/anaconda3/lib/python3.5/site-packages/tensorflow/python/client/session.py\u001b[0m in \u001b[0;36m_do_call\u001b[0;34m(self, fn, *args)\u001b[0m\n\u001b[1;32m   1321\u001b[0m   \u001b[0;32mdef\u001b[0m \u001b[0m_do_call\u001b[0m\u001b[0;34m(\u001b[0m\u001b[0mself\u001b[0m\u001b[0;34m,\u001b[0m \u001b[0mfn\u001b[0m\u001b[0;34m,\u001b[0m \u001b[0;34m*\u001b[0m\u001b[0margs\u001b[0m\u001b[0;34m)\u001b[0m\u001b[0;34m:\u001b[0m\u001b[0;34m\u001b[0m\u001b[0m\n\u001b[1;32m   1322\u001b[0m     \u001b[0;32mtry\u001b[0m\u001b[0;34m:\u001b[0m\u001b[0;34m\u001b[0m\u001b[0m\n\u001b[0;32m-> 1323\u001b[0;31m       \u001b[0;32mreturn\u001b[0m \u001b[0mfn\u001b[0m\u001b[0;34m(\u001b[0m\u001b[0;34m*\u001b[0m\u001b[0margs\u001b[0m\u001b[0;34m)\u001b[0m\u001b[0;34m\u001b[0m\u001b[0m\n\u001b[0m\u001b[1;32m   1324\u001b[0m     \u001b[0;32mexcept\u001b[0m \u001b[0merrors\u001b[0m\u001b[0;34m.\u001b[0m\u001b[0mOpError\u001b[0m \u001b[0;32mas\u001b[0m \u001b[0me\u001b[0m\u001b[0;34m:\u001b[0m\u001b[0;34m\u001b[0m\u001b[0m\n\u001b[1;32m   1325\u001b[0m       \u001b[0mmessage\u001b[0m \u001b[0;34m=\u001b[0m \u001b[0mcompat\u001b[0m\u001b[0;34m.\u001b[0m\u001b[0mas_text\u001b[0m\u001b[0;34m(\u001b[0m\u001b[0me\u001b[0m\u001b[0;34m.\u001b[0m\u001b[0mmessage\u001b[0m\u001b[0;34m)\u001b[0m\u001b[0;34m\u001b[0m\u001b[0m\n",
      "\u001b[0;32m/usr/local/anaconda3/lib/python3.5/site-packages/tensorflow/python/client/session.py\u001b[0m in \u001b[0;36m_run_fn\u001b[0;34m(session, feed_dict, fetch_list, target_list, options, run_metadata)\u001b[0m\n\u001b[1;32m   1300\u001b[0m           return tf_session.TF_Run(session, options,\n\u001b[1;32m   1301\u001b[0m                                    \u001b[0mfeed_dict\u001b[0m\u001b[0;34m,\u001b[0m \u001b[0mfetch_list\u001b[0m\u001b[0;34m,\u001b[0m \u001b[0mtarget_list\u001b[0m\u001b[0;34m,\u001b[0m\u001b[0;34m\u001b[0m\u001b[0m\n\u001b[0;32m-> 1302\u001b[0;31m                                    status, run_metadata)\n\u001b[0m\u001b[1;32m   1303\u001b[0m \u001b[0;34m\u001b[0m\u001b[0m\n\u001b[1;32m   1304\u001b[0m     \u001b[0;32mdef\u001b[0m \u001b[0m_prun_fn\u001b[0m\u001b[0;34m(\u001b[0m\u001b[0msession\u001b[0m\u001b[0;34m,\u001b[0m \u001b[0mhandle\u001b[0m\u001b[0;34m,\u001b[0m \u001b[0mfeed_dict\u001b[0m\u001b[0;34m,\u001b[0m \u001b[0mfetch_list\u001b[0m\u001b[0;34m)\u001b[0m\u001b[0;34m:\u001b[0m\u001b[0;34m\u001b[0m\u001b[0m\n",
      "\u001b[0;31mKeyboardInterrupt\u001b[0m: "
     ]
    }
   ],
   "source": [
    "cnfg.max_step = 1000000\n",
    "cnfg.dropout_keep_prob = 0.75\n",
    "cnfg.generate_every = 1000\n",
    "cnfg.n_generate = 200\n",
    "cnfg.log_save_as = 'logs/test2_lstm.log'\n",
    "cnfg.ckp_dir = 'ckp/test2_lstm'\n",
    "\n",
    "test_text = 'Working Class Hero is '\n",
    "test = Text(test_text)\n",
    "\n",
    "lstm_text_generator.train_model(cnfg, train, test)"
   ]
  },
  {
   "cell_type": "code",
   "execution_count": null,
   "metadata": {},
   "outputs": [],
   "source": []
  }
 ],
 "metadata": {
  "kernelspec": {
   "display_name": "Python 3",
   "language": "python",
   "name": "python3"
  },
  "language_info": {
   "codemirror_mode": {
    "name": "ipython",
    "version": 3
   },
   "file_extension": ".py",
   "mimetype": "text/x-python",
   "name": "python",
   "nbconvert_exporter": "python",
   "pygments_lexer": "ipython3",
   "version": "3.5.4"
  }
 },
 "nbformat": 4,
 "nbformat_minor": 2
}
