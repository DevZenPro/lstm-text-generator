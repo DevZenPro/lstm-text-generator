{
 "cells": [
  {
   "cell_type": "markdown",
   "metadata": {},
   "source": [
    "# Get started with MongoDB ^_^\n",
    "\n",
    "http://api.mongodb.com/python/current/tutorial.html"
   ]
  },
  {
   "cell_type": "code",
   "execution_count": 1,
   "metadata": {},
   "outputs": [],
   "source": [
    "import pymongo"
   ]
  },
  {
   "cell_type": "code",
   "execution_count": 2,
   "metadata": {},
   "outputs": [
    {
     "data": {
      "text/plain": [
       "['admin', 'config', 'lastfm_x_wikipedia', 'local']"
      ]
     },
     "execution_count": 2,
     "metadata": {},
     "output_type": "execute_result"
    }
   ],
   "source": [
    "client = pymongo.MongoClient('mongodb://localhost:27017/')  # Make sure MongoDB is running ('mongod' in command line)\n",
    "db = client['test_database']\n",
    "\n",
    "# Database doesn't get created until collection is created\n",
    "client.database_names()"
   ]
  },
  {
   "cell_type": "code",
   "execution_count": 3,
   "metadata": {},
   "outputs": [
    {
     "data": {
      "text/plain": [
       "[]"
      ]
     },
     "execution_count": 3,
     "metadata": {},
     "output_type": "execute_result"
    }
   ],
   "source": [
    "collection = db['test_collection']  # Collection is like a table in sql\n",
    "\n",
    "# Collection doesn't get created until data is inserted\n",
    "db.collection_names(include_system_collections=False)"
   ]
  },
  {
   "cell_type": "markdown",
   "metadata": {},
   "source": [
    "## Insert & find one datapoint"
   ]
  },
  {
   "cell_type": "code",
   "execution_count": 4,
   "metadata": {},
   "outputs": [],
   "source": [
    "emo1 = {'name': 'fun', \n",
    "        'friends': ['yay', 'tomato', 'Jimi'], \n",
    "        'score': 99}\n",
    "result = collection.insert_one(emo1)"
   ]
  },
  {
   "cell_type": "code",
   "execution_count": 5,
   "metadata": {},
   "outputs": [
    {
     "data": {
      "text/plain": [
       "{'_id': ObjectId('5a42e4c226e1ce3e46b8f6bf'),\n",
       " 'friends': ['yay', 'tomato', 'Jimi'],\n",
       " 'name': 'fun',\n",
       " 'score': 99}"
      ]
     },
     "execution_count": 5,
     "metadata": {},
     "output_type": "execute_result"
    }
   ],
   "source": [
    "collection.find_one()"
   ]
  },
  {
   "cell_type": "code",
   "execution_count": 6,
   "metadata": {},
   "outputs": [
    {
     "data": {
      "text/plain": [
       "['test_collection']"
      ]
     },
     "execution_count": 6,
     "metadata": {},
     "output_type": "execute_result"
    }
   ],
   "source": [
    "db.collection_names(include_system_collections=False)"
   ]
  },
  {
   "cell_type": "code",
   "execution_count": 7,
   "metadata": {},
   "outputs": [
    {
     "data": {
      "text/plain": [
       "['admin', 'config', 'lastfm_x_wikipedia', 'local', 'test_database']"
      ]
     },
     "execution_count": 7,
     "metadata": {},
     "output_type": "execute_result"
    }
   ],
   "source": [
    "client.database_names()"
   ]
  },
  {
   "cell_type": "markdown",
   "metadata": {},
   "source": [
    "## Insert & find multiple datapoints"
   ]
  },
  {
   "cell_type": "code",
   "execution_count": 8,
   "metadata": {},
   "outputs": [],
   "source": [
    "emo2 = {'name': 'tired', \n",
    "        'friends': ['need sleep'], \n",
    "        'score': 19}\n",
    "emo3 = {'name': 'energetic', \n",
    "        'friends': ['Jimi', 'hungry', 'coffee'], \n",
    "        'score': 93}\n",
    "emo4 = {'name': 'cute', \n",
    "        'friends': ['pink', 'hello kitty'], \n",
    "        'score': 77}\n",
    "result = collection.insert_many([emo2, emo3, emo4])"
   ]
  },
  {
   "cell_type": "code",
   "execution_count": 9,
   "metadata": {},
   "outputs": [
    {
     "name": "stdout",
     "output_type": "stream",
     "text": [
      "{'score': 99, '_id': ObjectId('5a42e4c226e1ce3e46b8f6bf'), 'name': 'fun', 'friends': ['yay', 'tomato', 'Jimi']}\n",
      "{'score': 19, '_id': ObjectId('5a42e4c926e1ce3e46b8f6c0'), 'name': 'tired', 'friends': ['need sleep']}\n",
      "{'score': 93, '_id': ObjectId('5a42e4c926e1ce3e46b8f6c1'), 'name': 'energetic', 'friends': ['Jimi', 'hungry', 'coffee']}\n",
      "{'score': 77, '_id': ObjectId('5a42e4c926e1ce3e46b8f6c2'), 'name': 'cute', 'friends': ['pink', 'hello kitty']}\n"
     ]
    }
   ],
   "source": [
    "for emo in collection.find():\n",
    "    print(emo)"
   ]
  },
  {
   "cell_type": "markdown",
   "metadata": {},
   "source": [
    "## Run queries!\n",
    "\n",
    "find method: http://api.mongodb.com/python/current/api/pymongo/collection.html#pymongo.collection.Collection.find"
   ]
  },
  {
   "cell_type": "code",
   "execution_count": 10,
   "metadata": {},
   "outputs": [
    {
     "data": {
      "text/plain": [
       "4"
      ]
     },
     "execution_count": 10,
     "metadata": {},
     "output_type": "execute_result"
    }
   ],
   "source": [
    "collection.find().count()"
   ]
  },
  {
   "cell_type": "code",
   "execution_count": 11,
   "metadata": {},
   "outputs": [],
   "source": [
    "proj_name_score = {'name': 1, 'score': 1, '_id': 0}\n",
    "proj_name_friends = {'name': 1, 'friends': 1, '_id': 0}"
   ]
  },
  {
   "cell_type": "code",
   "execution_count": 12,
   "metadata": {},
   "outputs": [
    {
     "name": "stdout",
     "output_type": "stream",
     "text": [
      "{'score': 99, 'name': 'fun'}\n",
      "{'score': 93, 'name': 'energetic'}\n",
      "{'score': 77, 'name': 'cute'}\n",
      "{'score': 19, 'name': 'tired'}\n"
     ]
    }
   ],
   "source": [
    "for emo in collection.find({}, proj_name_score).sort('score', pymongo.DESCENDING):\n",
    "    print(emo)"
   ]
  },
  {
   "cell_type": "code",
   "execution_count": 13,
   "metadata": {},
   "outputs": [
    {
     "name": "stdout",
     "output_type": "stream",
     "text": [
      "{'score': 99, 'name': 'fun'}\n",
      "{'score': 93, 'name': 'energetic'}\n"
     ]
    }
   ],
   "source": [
    "for emo in collection.find({'score': {'$gt': 90}}, proj_name_score):  # score > 90\n",
    "    print(emo)"
   ]
  },
  {
   "cell_type": "code",
   "execution_count": 14,
   "metadata": {},
   "outputs": [
    {
     "name": "stdout",
     "output_type": "stream",
     "text": [
      "{'friends': ['Jimi', 'hungry', 'coffee'], 'name': 'energetic'}\n"
     ]
    }
   ],
   "source": [
    "for emo in collection.find({'name': 'energetic'}, proj_name_friends):  # exact match\n",
    "    print(emo)"
   ]
  },
  {
   "cell_type": "code",
   "execution_count": 15,
   "metadata": {},
   "outputs": [
    {
     "name": "stdout",
     "output_type": "stream",
     "text": [
      "{'friends': ['need sleep'], 'name': 'tired'}\n",
      "{'friends': ['Jimi', 'hungry', 'coffee'], 'name': 'energetic'}\n"
     ]
    }
   ],
   "source": [
    "for emo in collection.find({'name': {'$regex' : 'ti'}}, proj_name_friends):  # 'ti' in name string\n",
    "    print(emo)"
   ]
  },
  {
   "cell_type": "code",
   "execution_count": 16,
   "metadata": {},
   "outputs": [
    {
     "name": "stdout",
     "output_type": "stream",
     "text": [
      "{'friends': ['yay', 'tomato', 'Jimi'], 'name': 'fun'}\n",
      "{'friends': ['Jimi', 'hungry', 'coffee'], 'name': 'energetic'}\n"
     ]
    }
   ],
   "source": [
    "for emo in collection.find({'friends': {'$all' : ['Jimi']}}, proj_name_friends):  # 'Jimi' in friends array\n",
    "    print(emo)"
   ]
  },
  {
   "cell_type": "markdown",
   "metadata": {},
   "source": [
    "## Delete collection and database"
   ]
  },
  {
   "cell_type": "code",
   "execution_count": 17,
   "metadata": {},
   "outputs": [
    {
     "data": {
      "text/plain": [
       "['admin', 'config', 'lastfm_x_wikipedia', 'local']"
      ]
     },
     "execution_count": 17,
     "metadata": {},
     "output_type": "execute_result"
    }
   ],
   "source": [
    "collection.drop()\n",
    "\n",
    "# When there's no collection in database, database is also gone\n",
    "client.database_names()"
   ]
  },
  {
   "cell_type": "code",
   "execution_count": null,
   "metadata": {},
   "outputs": [],
   "source": []
  }
 ],
 "metadata": {
  "kernelspec": {
   "display_name": "Python 3",
   "language": "python",
   "name": "python3"
  },
  "language_info": {
   "codemirror_mode": {
    "name": "ipython",
    "version": 3
   },
   "file_extension": ".py",
   "mimetype": "text/x-python",
   "name": "python",
   "nbconvert_exporter": "python",
   "pygments_lexer": "ipython3",
   "version": "3.5.4"
  }
 },
 "nbformat": 4,
 "nbformat_minor": 2
}
